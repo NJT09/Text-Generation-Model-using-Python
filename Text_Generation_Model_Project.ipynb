{
 "cells": [
  {
   "cell_type": "markdown",
   "metadata": {},
   "source": [
    "## Import Libraries and \"Tiny Shakespeare\" Dataset from Tensorflow Dataset"
   ]
  },
  {
   "cell_type": "code",
   "execution_count": 1,
   "metadata": {},
   "outputs": [],
   "source": [
    "import tensorflow as tf\n",
    "import tensorflow_datasets as tfds\n",
    "import numpy as np\n",
    "\n",
    "# load the Tiny Shakespeare dataset\n",
    "dataset, info = tfds.load('tiny_shakespeare', with_info=True, as_supervised=False)"
   ]
  },
  {
   "cell_type": "markdown",
   "metadata": {},
   "source": [
    "The dataset contains data in a textual format, and language models need numerical data. So I will convert the text to sequences of integers. I will also create sequences for training."
   ]
  },
  {
   "cell_type": "code",
   "execution_count": 2,
   "metadata": {},
   "outputs": [],
   "source": [
    "# get the text from the dataset\n",
    "text = next(iter(dataset['train']))['text'].numpy().decode('utf-8')\n",
    "\n",
    "# create a mapping from unique characters to indices\n",
    "vocab = sorted(set(text))\n",
    "char2idx = {char: idx for idx, char in enumerate(vocab)}\n",
    "idx2char = np.array(vocab)\n",
    "\n",
    "# numerically represent the characters\n",
    "text_as_int = np.array([char2idx[c] for c in text])\n",
    "\n",
    "# create training examples and targets\n",
    "seq_length = 100\n",
    "examples_per_epoch = len(text) // (seq_length + 1)\n",
    "\n",
    "# create training sequences\n",
    "char_dataset = tf.data.Dataset.from_tensor_slices(text_as_int)\n",
    "\n",
    "sequences = char_dataset.batch(seq_length + 1, drop_remainder=True)"
   ]
  },
  {
   "cell_type": "markdown",
   "metadata": {},
   "source": [
    "For each sequence, I will now duplicate and shift it to form the input and target text by using the map method to apply a simple function to each batch."
   ]
  },
  {
   "cell_type": "code",
   "execution_count": 3,
   "metadata": {},
   "outputs": [],
   "source": [
    "def split_input_target(chunk):\n",
    "    input_text = chunk[:-1]\n",
    "    target_text = chunk[1:]\n",
    "    return input_text, target_text\n",
    "\n",
    "dataset = sequences.map(split_input_target)"
   ]
  },
  {
   "cell_type": "markdown",
   "metadata": {},
   "source": [
    "Now, I will shuffle the dataset and pack it into training batches."
   ]
  },
  {
   "cell_type": "code",
   "execution_count": 4,
   "metadata": {},
   "outputs": [],
   "source": [
    "# batch size and buffer size\n",
    "BATCH_SIZE = 64\n",
    "BUFFER_SIZE = 10000\n",
    "\n",
    "dataset = (\n",
    "    dataset\n",
    "    .shuffle(BUFFER_SIZE)\n",
    "    .batch(BATCH_SIZE, drop_remainder=True)\n",
    "    .prefetch(tf.data.experimental.AUTOTUNE)\n",
    ")"
   ]
  },
  {
   "cell_type": "markdown",
   "metadata": {},
   "source": [
    "Now, I will use a simple Recurrent Neural Network (RNN) model with a few layers to build the model."
   ]
  },
  {
   "cell_type": "code",
   "execution_count": 5,
   "metadata": {},
   "outputs": [],
   "source": [
    "# length of the vocabulary\n",
    "vocab_size = len(vocab)\n",
    "\n",
    "# the embedding dimension\n",
    "embedding_dim = 256\n",
    "\n",
    "# number of RNN units\n",
    "rnn_units = 1024\n",
    "\n",
    "def build_model(vocab_size, embedding_dim, rnn_units, batch_size):\n",
    "    model = tf.keras.Sequential([\n",
    "        tf.keras.layers.Embedding(vocab_size, embedding_dim, batch_input_shape=[batch_size, None]),\n",
    "        tf.keras.layers.LSTM(rnn_units, return_sequences=True, stateful=True, recurrent_initializer='glorot_uniform'),\n",
    "        tf.keras.layers.Dense(vocab_size)\n",
    "    ])\n",
    "    return model\n",
    "\n",
    "model = build_model(vocab_size, embedding_dim, rnn_units, BATCH_SIZE)"
   ]
  },
  {
   "cell_type": "markdown",
   "metadata": {},
   "source": [
    "I will now choose an optimizer and a loss function to compile the model"
   ]
  },
  {
   "cell_type": "code",
   "execution_count": 6,
   "metadata": {},
   "outputs": [],
   "source": [
    "def loss(labels, logits):\n",
    "    return tf.keras.losses.sparse_categorical_crossentropy(labels, logits, from_logits=True)\n",
    "\n",
    "model.compile(optimizer='adam', loss=loss)"
   ]
  },
  {
   "cell_type": "markdown",
   "metadata": {},
   "source": [
    "## Model Training"
   ]
  },
  {
   "cell_type": "code",
   "execution_count": 7,
   "metadata": {},
   "outputs": [
    {
     "name": "stdout",
     "output_type": "stream",
     "text": [
      "Epoch 1/10\n",
      "155/155 [==============================] - 466s 3s/step - loss: 2.6249\n",
      "Epoch 2/10\n",
      "155/155 [==============================] - 460s 3s/step - loss: 1.9132\n",
      "Epoch 3/10\n",
      "155/155 [==============================] - 467s 3s/step - loss: 1.6599\n",
      "Epoch 4/10\n",
      "155/155 [==============================] - 461s 3s/step - loss: 1.5224\n",
      "Epoch 5/10\n",
      "155/155 [==============================] - 463s 3s/step - loss: 1.4377\n",
      "Epoch 6/10\n",
      "155/155 [==============================] - 463s 3s/step - loss: 1.3785\n",
      "Epoch 7/10\n",
      "155/155 [==============================] - 464s 3s/step - loss: 1.3316\n",
      "Epoch 8/10\n",
      "155/155 [==============================] - 463s 3s/step - loss: 1.2911\n",
      "Epoch 9/10\n",
      "155/155 [==============================] - 464s 3s/step - loss: 1.2527\n",
      "Epoch 10/10\n",
      "155/155 [==============================] - 464s 3s/step - loss: 1.2166\n"
     ]
    }
   ],
   "source": [
    "import os\n",
    "\n",
    "# directory where the checkpoints will be saved\n",
    "checkpoint_dir = './training_checkpoints'\n",
    "\n",
    "# name of the checkpoint files\n",
    "checkpoint_prefix = os.path.join(checkpoint_dir, \"ckpt_{epoch}\")\n",
    "\n",
    "checkpoint_callback = tf.keras.callbacks.ModelCheckpoint(\n",
    "    filepath=checkpoint_prefix,\n",
    "    save_weights_only=True\n",
    ")\n",
    "\n",
    "# train the model\n",
    "EPOCHS = 10\n",
    "history = model.fit(dataset, epochs=EPOCHS, callbacks=[checkpoint_callback])"
   ]
  },
  {
   "cell_type": "markdown",
   "metadata": {},
   "source": [
    "After training, I can now use the model to generate text. First, I will restore the latest checkpoint and rebuild the model with a batch size of 1."
   ]
  },
  {
   "cell_type": "code",
   "execution_count": 8,
   "metadata": {},
   "outputs": [],
   "source": [
    "model = build_model(vocab_size, embedding_dim, rnn_units, batch_size=1)\n",
    "model.load_weights(tf.train.latest_checkpoint(checkpoint_dir))\n",
    "model.build(tf.TensorShape([1, None]))"
   ]
  },
  {
   "cell_type": "markdown",
   "metadata": {},
   "source": [
    "Now, to generate text, I will input a seed string, predict the next character, and then add it back to the input, continuing this process to generate longer text:"
   ]
  },
  {
   "cell_type": "code",
   "execution_count": 10,
   "metadata": {},
   "outputs": [
    {
     "name": "stdout",
     "output_type": "stream",
     "text": [
      "QUEEN: So, lets end this blood he hate:\n",
      "O, 'tis the dukedom Boling hath, made betwered.\n",
      "If any quarrel lay or gow\n",
      "Such thoughts,\n",
      "The head to-nice our hand and sensed Mentagry:\n",
      "Might do any oath we call death.\n",
      "\n",
      "BUCKINGHAM:\n",
      "The gentlewas we have flattered\n",
      "By lawful absence: heeening to me as faults\n",
      "I'll handone with the joy; I would not follow\n",
      "Our niches in the city of the worst.\n",
      "\n",
      "LADY CAPULET:\n",
      "Where is thou? of all plain, call'd not;\n",
      "And, as they will there, in my brother Rutlain,\n",
      "And from the meaning shows that lives; thit\n",
      "inquiradary.\n",
      "it were I see, to Antolour said,\n",
      "Trown it excucall; and promise the truits;\n",
      "And live with sweet from mortal aid.\n",
      "Come, your voices! for the head of Hereford's hus\n",
      "'AP LIUS:\n",
      "As much he gain?\n",
      "Come, to too arms: leave that I must not death?\n",
      "O caughtan, lest, and that we have, beseech you:\n",
      "Of that there, forth; I throne instantled with his watch;\n",
      "Pale in the hopes: I have am ansold grow his welling,\n",
      "An entreated her brother Clarence, or I and once.\n",
      "\n",
      "KING RICHARD III:\n",
      "Sweet with an \n"
     ]
    }
   ],
   "source": [
    "def generate_text(model, start_string):\n",
    "    num_generate = 1000\n",
    "\n",
    "    input_eval = [char2idx[s] for s in start_string]\n",
    "    input_eval = tf.expand_dims(input_eval, 0)\n",
    "\n",
    "    text_generated = []\n",
    "\n",
    "    model.reset_states()\n",
    "    for i in range(num_generate):\n",
    "        predictions = model(input_eval)\n",
    "        predictions = tf.squeeze(predictions, 0)\n",
    "\n",
    "        predicted_id = tf.random.categorical(predictions, num_samples=1)[-1, 0].numpy()\n",
    "        input_eval = tf.expand_dims([predicted_id], 0)\n",
    "\n",
    "        text_generated.append(idx2char[predicted_id])\n",
    "\n",
    "    return (start_string + ''.join(text_generated))\n",
    "\n",
    "print(generate_text(model, start_string=u\"QUEEN: So, lets end this\"))"
   ]
  },
  {
   "cell_type": "markdown",
   "metadata": {},
   "source": [
    "The **generate_text** function in the above code uses a trained Recurrent Neural Network (RNN) model to generate a sequence of text, starting with a given seed phrase (start_string). It converts the seed phrase into a sequence of numeric indices, feeds these indices into the model, and then iteratively generates new characters, each time using the model’s most recent output as the input for the next step. This process continues for a specified number of iterations **(num_generate)**, resulting in a stream of text that extends from the initial seed.\n",
    "\n",
    "The function employs randomness in character selection to ensure variability in the generated text, and the final output is a concatenation of the seed phrase with the newly generated characters, typically reflecting the style and content of the training data used for the model."
   ]
  }
 ],
 "metadata": {
  "kernelspec": {
   "display_name": "base",
   "language": "python",
   "name": "python3"
  },
  "language_info": {
   "codemirror_mode": {
    "name": "ipython",
    "version": 3
   },
   "file_extension": ".py",
   "mimetype": "text/x-python",
   "name": "python",
   "nbconvert_exporter": "python",
   "pygments_lexer": "ipython3",
   "version": "3.9.13"
  }
 },
 "nbformat": 4,
 "nbformat_minor": 2
}
